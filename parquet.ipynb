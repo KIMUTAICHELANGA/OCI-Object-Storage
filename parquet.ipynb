{
 "cells": [
  {
   "cell_type": "markdown",
   "metadata": {},
   "source": [
    "READING/WRITING  Parquet files to OCI Object Stprage"
   ]
  },
  {
   "cell_type": "code",
   "execution_count": null,
   "metadata": {},
   "outputs": [],
   "source": [
    "import ads \n",
    "from ads.common.auth import default_signer\n",
    "import pandas as pd\n",
    "import fssspec\n",
    "\n",
    "#use of resource principal for auth method:\n",
    "print(ads,__version__)\n",
    "ads.set_auth(auth=\"resource_principal\")"
   ]
  },
  {
   "cell_type": "code",
   "execution_count": null,
   "metadata": {},
   "outputs": [],
   "source": [
    "#object storage bucket and data\n",
    "#this bucket is publicly available\n",
    "\n",
    "bucket = \"hosted-ds-datasets\"\n",
    "namespace = \"bigdatadatasciencelarge\""
   ]
  },
  {
   "cell_type": "markdown",
   "metadata": {},
   "source": [
    "SINGLE LARGE FILES\n"
   ]
  },
  {
   "cell_type": "code",
   "execution_count": null,
   "metadata": {},
   "outputs": [],
   "source": [
    "large_files = [\"nyc_tlc/2009/01/data.parquet\"] # NYC Taxi dataset "
   ]
  },
  {
   "cell_type": "code",
   "execution_count": null,
   "metadata": {},
   "outputs": [],
   "source": [
    "for f in large_files:\n",
    "    df=pd.read_csv(f\"oci://{bucket}@{namespace}/{f}\",storage_option=default_signer(),engine=\"pyarrow\")\n",
    "\n",
    "    print(f\"file[f]\")\n",
    "    print(df.head())\n",
    "    print(f\"size{df.shape}\")"
   ]
  },
  {
   "cell_type": "markdown",
   "metadata": {},
   "source": [
    "MULTIPLE LARGE FILES"
   ]
  },
  {
   "cell_type": "code",
   "execution_count": null,
   "metadata": {},
   "outputs": [],
   "source": [
    "from oci.auth.signers import get_resource_principals_signer"
   ]
  },
  {
   "cell_type": "code",
   "execution_count": null,
   "metadata": {},
   "outputs": [],
   "source": [
    "fs=OCIFileSystem(signer=get_resource_principals_signer())"
   ]
  },
  {
   "cell_type": "code",
   "execution_count": null,
   "metadata": {},
   "outputs": [],
   "source": [
    "relevant_files = fs.ls(f\"{bucket}@{namespace}/nyc_tlc/2009/\")"
   ]
  },
  {
   "cell_type": "code",
   "execution_count": null,
   "metadata": {},
   "outputs": [],
   "source": [
    "df=pd.concat((pd.read_parquet(f\"oci://{f}/data.parquet\"),storage_options=default_signer(),engine=\"pyarrow\")\n",
    "            ignore_index=True)"
   ]
  },
  {
   "cell_type": "code",
   "execution_count": null,
   "metadata": {},
   "outputs": [],
   "source": [
    "your bucket = \"\"\n",
    "your namespace=\"\"\n",
    "\n",
    "df.to_parquet(f\"oci://{your_bucket}@{your_namespace}/taxi-data.parquet\",storage_options=default_signer())"
   ]
  }
 ],
 "metadata": {
  "language_info": {
   "name": "python"
  }
 },
 "nbformat": 4,
 "nbformat_minor": 2
}
